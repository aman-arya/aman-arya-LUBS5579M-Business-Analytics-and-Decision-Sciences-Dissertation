{
 "cells": [
  {
   "cell_type": "code",
   "execution_count": 1,
   "id": "86e740f2",
   "metadata": {},
   "outputs": [
    {
     "name": "stdout",
     "output_type": "stream",
     "text": [
      "Saved resampled data with 1% imbalance to data_resampled_1.csv\n",
      "Class distribution for 1% imbalance: Counter({0: 25199, 1: 251})\n",
      "Saved resampled data with 5% imbalance to data_resampled_5.csv\n",
      "Class distribution for 5% imbalance: Counter({0: 5037, 1: 249})\n",
      "Saved resampled data with 10% imbalance to data_resampled_10.csv\n",
      "Class distribution for 10% imbalance: Counter({0: 2516, 1: 248})\n",
      "Saved resampled data with 20% imbalance to data_resampled_20.csv\n",
      "Class distribution for 20% imbalance: Counter({0: 1259, 1: 251})\n",
      "Saved resampled data with 30% imbalance to data_resampled_30.csv\n",
      "Class distribution for 30% imbalance: Counter({0: 832, 1: 244})\n",
      "Saved resampled data with 40% imbalance to data_resampled_40.csv\n",
      "Class distribution for 40% imbalance: Counter({0: 611, 1: 233})\n",
      "Saved resampled data with 50% imbalance to data_resampled_50.csv\n",
      "Class distribution for 50% imbalance: Counter({0: 478, 1: 226})\n"
     ]
    }
   ],
   "source": [
    "import pandas as pd\n",
    "from imblearn.combine import SMOTETomek\n",
    "from collections import Counter\n",
    "\n",
    "# Load the data\n",
    "data = pd.read_csv(\"data_cln.csv\")\n",
    "\n",
    "# Separate features and target variable\n",
    "X = data.drop(columns=['Outcome'])\n",
    "y = data['Outcome']\n",
    "\n",
    "# Define the target ratios for class imbalance\n",
    "ratios = [0.01, 0.05, 0.10, 0.20, 0.30, 0.40, 0.50]\n",
    "\n",
    "# Number of minority samples\n",
    "n_minority_samples = Counter(y)[1]\n",
    "\n",
    "# Resample and save datasets\n",
    "for ratio in ratios:\n",
    "    # Calculate the number of majority samples to achieve the desired ratio\n",
    "    n_majority_samples = int(n_minority_samples / ratio)\n",
    "    \n",
    "    # Define the sampling strategy\n",
    "    sampling_strategy = {0: n_majority_samples, 1: n_minority_samples}\n",
    "    \n",
    "    # Apply SMOTETomek\n",
    "    smote_tomek = SMOTETomek(sampling_strategy=sampling_strategy, random_state=42)\n",
    "    X_resampled, y_resampled = smote_tomek.fit_resample(X, y)\n",
    "    \n",
    "    # Combine resampled features and target\n",
    "    data_resampled = pd.concat([pd.DataFrame(X_resampled, columns=X.columns), pd.DataFrame(y_resampled, columns=['Outcome'])], axis=1)\n",
    "    \n",
    "    # Save to CSV\n",
    "    file_name = f\"data_resampled_{int(ratio*100)}.csv\"\n",
    "    data_resampled.to_csv(file_name, index=False)\n",
    "    print(f\"Saved resampled data with {int(ratio*100)}% imbalance to {file_name}\")\n",
    "    \n",
    "    # Print class distribution\n",
    "    class_distribution = Counter(y_resampled)\n",
    "    print(f\"Class distribution for {int(ratio*100)}% imbalance: {class_distribution}\")\n"
   ]
  }
 ],
 "metadata": {
  "kernelspec": {
   "display_name": "Python 3 (ipykernel)",
   "language": "python",
   "name": "python3"
  },
  "language_info": {
   "codemirror_mode": {
    "name": "ipython",
    "version": 3
   },
   "file_extension": ".py",
   "mimetype": "text/x-python",
   "name": "python",
   "nbconvert_exporter": "python",
   "pygments_lexer": "ipython3",
   "version": "3.9.12"
  }
 },
 "nbformat": 4,
 "nbformat_minor": 5
}
