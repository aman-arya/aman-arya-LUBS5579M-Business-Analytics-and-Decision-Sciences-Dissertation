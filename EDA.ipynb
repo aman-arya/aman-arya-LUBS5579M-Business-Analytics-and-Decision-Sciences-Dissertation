{
 "cells": [
  {
   "cell_type": "markdown",
   "metadata": {},
   "source": [
    "# 2. Import libraries and read data"
   ]
  },
  {
   "cell_type": "code",
   "execution_count": 1,
   "metadata": {
    "_kg_hide-input": true,
    "execution": {
     "iopub.execute_input": "2023-08-07T16:28:41.175592Z",
     "iopub.status.busy": "2023-08-07T16:28:41.175138Z",
     "iopub.status.idle": "2023-08-07T16:28:41.191312Z",
     "shell.execute_reply": "2023-08-07T16:28:41.190393Z",
     "shell.execute_reply.started": "2023-08-07T16:28:41.175558Z"
    },
    "jupyter": {
     "source_hidden": true
    }
   },
   "outputs": [],
   "source": [
    "import joblib\n",
    "import optuna\n",
    "import numpy as np\n",
    "import pandas as pd\n",
    "import warnings\n",
    "warnings.filterwarnings('ignore')\n",
    "import matplotlib.pyplot as plt\n",
    "%matplotlib inline\n",
    "import seaborn as sns\n",
    "import plotly.offline as py\n",
    "import plotly.graph_objs as go\n",
    "import plotly.tools as tls\n"
   ]
  },
  {
   "cell_type": "code",
   "execution_count": 2,
   "metadata": {
    "execution": {
     "iopub.execute_input": "2023-08-07T16:28:45.894646Z",
     "iopub.status.busy": "2023-08-07T16:28:45.893287Z",
     "iopub.status.idle": "2023-08-07T16:28:45.917643Z",
     "shell.execute_reply": "2023-08-07T16:28:45.916769Z",
     "shell.execute_reply.started": "2023-08-07T16:28:45.894589Z"
    }
   },
   "outputs": [
    {
     "data": {
      "text/html": [
       "<div>\n",
       "<style scoped>\n",
       "    .dataframe tbody tr th:only-of-type {\n",
       "        vertical-align: middle;\n",
       "    }\n",
       "\n",
       "    .dataframe tbody tr th {\n",
       "        vertical-align: top;\n",
       "    }\n",
       "\n",
       "    .dataframe thead th {\n",
       "        text-align: right;\n",
       "    }\n",
       "</style>\n",
       "<table border=\"1\" class=\"dataframe\">\n",
       "  <thead>\n",
       "    <tr style=\"text-align: right;\">\n",
       "      <th></th>\n",
       "      <th>Pregnancies</th>\n",
       "      <th>Glucose</th>\n",
       "      <th>BloodPressure</th>\n",
       "      <th>SkinThickness</th>\n",
       "      <th>Insulin</th>\n",
       "      <th>BMI</th>\n",
       "      <th>DiabetesPedigreeFunction</th>\n",
       "      <th>Age</th>\n",
       "      <th>Outcome</th>\n",
       "    </tr>\n",
       "  </thead>\n",
       "  <tbody>\n",
       "    <tr>\n",
       "      <th>0</th>\n",
       "      <td>6</td>\n",
       "      <td>148</td>\n",
       "      <td>72</td>\n",
       "      <td>35</td>\n",
       "      <td>0</td>\n",
       "      <td>33.6</td>\n",
       "      <td>0.627</td>\n",
       "      <td>50</td>\n",
       "      <td>1</td>\n",
       "    </tr>\n",
       "    <tr>\n",
       "      <th>1</th>\n",
       "      <td>1</td>\n",
       "      <td>85</td>\n",
       "      <td>66</td>\n",
       "      <td>29</td>\n",
       "      <td>0</td>\n",
       "      <td>26.6</td>\n",
       "      <td>0.351</td>\n",
       "      <td>31</td>\n",
       "      <td>0</td>\n",
       "    </tr>\n",
       "    <tr>\n",
       "      <th>2</th>\n",
       "      <td>8</td>\n",
       "      <td>183</td>\n",
       "      <td>64</td>\n",
       "      <td>0</td>\n",
       "      <td>0</td>\n",
       "      <td>23.3</td>\n",
       "      <td>0.672</td>\n",
       "      <td>32</td>\n",
       "      <td>1</td>\n",
       "    </tr>\n",
       "    <tr>\n",
       "      <th>3</th>\n",
       "      <td>1</td>\n",
       "      <td>89</td>\n",
       "      <td>66</td>\n",
       "      <td>23</td>\n",
       "      <td>94</td>\n",
       "      <td>28.1</td>\n",
       "      <td>0.167</td>\n",
       "      <td>21</td>\n",
       "      <td>0</td>\n",
       "    </tr>\n",
       "    <tr>\n",
       "      <th>4</th>\n",
       "      <td>0</td>\n",
       "      <td>137</td>\n",
       "      <td>40</td>\n",
       "      <td>35</td>\n",
       "      <td>168</td>\n",
       "      <td>43.1</td>\n",
       "      <td>2.288</td>\n",
       "      <td>33</td>\n",
       "      <td>1</td>\n",
       "    </tr>\n",
       "  </tbody>\n",
       "</table>\n",
       "</div>"
      ],
      "text/plain": [
       "   Pregnancies  Glucose  BloodPressure  SkinThickness  Insulin   BMI  \\\n",
       "0            6      148             72             35        0  33.6   \n",
       "1            1       85             66             29        0  26.6   \n",
       "2            8      183             64              0        0  23.3   \n",
       "3            1       89             66             23       94  28.1   \n",
       "4            0      137             40             35      168  43.1   \n",
       "\n",
       "   DiabetesPedigreeFunction  Age  Outcome  \n",
       "0                     0.627   50        1  \n",
       "1                     0.351   31        0  \n",
       "2                     0.672   32        1  \n",
       "3                     0.167   21        0  \n",
       "4                     2.288   33        1  "
      ]
     },
     "execution_count": 2,
     "metadata": {},
     "output_type": "execute_result"
    }
   ],
   "source": [
    "data = pd.read_csv('Diabetes.csv')\n",
    "data.head()"
   ]
  },
  {
   "cell_type": "markdown",
   "metadata": {},
   "source": [
    "# 3. Data Preprocessing "
   ]
  },
  {
   "cell_type": "markdown",
   "metadata": {},
   "source": [
    "## 3.1 Data Describe and visualization"
   ]
  },
  {
   "cell_type": "markdown",
   "metadata": {},
   "source": [
    "The DataFrame.describe() method provides descriptive statistics summarizing the distribution of a dataset's numeric values, excluding NaN values. It offers insights into the central tendency, dispersion, and shape. Notably, it doesn't handle categorical values unless include=\"all\" is specified. The generated statistics include count, mean, standard deviation, minimum and maximum values, and quartile information, aiding in outlier detection."
   ]
  },
  {
   "cell_type": "code",
   "execution_count": 3,
   "metadata": {
    "execution": {
     "iopub.execute_input": "2023-08-07T16:28:49.450861Z",
     "iopub.status.busy": "2023-08-07T16:28:49.450385Z",
     "iopub.status.idle": "2023-08-07T16:28:49.499089Z",
     "shell.execute_reply": "2023-08-07T16:28:49.497686Z",
     "shell.execute_reply.started": "2023-08-07T16:28:49.450824Z"
    }
   },
   "outputs": [
    {
     "data": {
      "text/html": [
       "<div>\n",
       "<style scoped>\n",
       "    .dataframe tbody tr th:only-of-type {\n",
       "        vertical-align: middle;\n",
       "    }\n",
       "\n",
       "    .dataframe tbody tr th {\n",
       "        vertical-align: top;\n",
       "    }\n",
       "\n",
       "    .dataframe thead th {\n",
       "        text-align: right;\n",
       "    }\n",
       "</style>\n",
       "<table border=\"1\" class=\"dataframe\">\n",
       "  <thead>\n",
       "    <tr style=\"text-align: right;\">\n",
       "      <th></th>\n",
       "      <th>count</th>\n",
       "      <th>mean</th>\n",
       "      <th>std</th>\n",
       "      <th>min</th>\n",
       "      <th>25%</th>\n",
       "      <th>50%</th>\n",
       "      <th>75%</th>\n",
       "      <th>max</th>\n",
       "    </tr>\n",
       "  </thead>\n",
       "  <tbody>\n",
       "    <tr>\n",
       "      <th>Pregnancies</th>\n",
       "      <td>768.0</td>\n",
       "      <td>3.845052</td>\n",
       "      <td>3.369578</td>\n",
       "      <td>0.000</td>\n",
       "      <td>1.00000</td>\n",
       "      <td>3.0000</td>\n",
       "      <td>6.00000</td>\n",
       "      <td>17.00</td>\n",
       "    </tr>\n",
       "    <tr>\n",
       "      <th>Glucose</th>\n",
       "      <td>768.0</td>\n",
       "      <td>120.894531</td>\n",
       "      <td>31.972618</td>\n",
       "      <td>0.000</td>\n",
       "      <td>99.00000</td>\n",
       "      <td>117.0000</td>\n",
       "      <td>140.25000</td>\n",
       "      <td>199.00</td>\n",
       "    </tr>\n",
       "    <tr>\n",
       "      <th>BloodPressure</th>\n",
       "      <td>768.0</td>\n",
       "      <td>69.105469</td>\n",
       "      <td>19.355807</td>\n",
       "      <td>0.000</td>\n",
       "      <td>62.00000</td>\n",
       "      <td>72.0000</td>\n",
       "      <td>80.00000</td>\n",
       "      <td>122.00</td>\n",
       "    </tr>\n",
       "    <tr>\n",
       "      <th>SkinThickness</th>\n",
       "      <td>768.0</td>\n",
       "      <td>20.536458</td>\n",
       "      <td>15.952218</td>\n",
       "      <td>0.000</td>\n",
       "      <td>0.00000</td>\n",
       "      <td>23.0000</td>\n",
       "      <td>32.00000</td>\n",
       "      <td>99.00</td>\n",
       "    </tr>\n",
       "    <tr>\n",
       "      <th>Insulin</th>\n",
       "      <td>768.0</td>\n",
       "      <td>79.799479</td>\n",
       "      <td>115.244002</td>\n",
       "      <td>0.000</td>\n",
       "      <td>0.00000</td>\n",
       "      <td>30.5000</td>\n",
       "      <td>127.25000</td>\n",
       "      <td>846.00</td>\n",
       "    </tr>\n",
       "    <tr>\n",
       "      <th>BMI</th>\n",
       "      <td>768.0</td>\n",
       "      <td>31.992578</td>\n",
       "      <td>7.884160</td>\n",
       "      <td>0.000</td>\n",
       "      <td>27.30000</td>\n",
       "      <td>32.0000</td>\n",
       "      <td>36.60000</td>\n",
       "      <td>67.10</td>\n",
       "    </tr>\n",
       "    <tr>\n",
       "      <th>DiabetesPedigreeFunction</th>\n",
       "      <td>768.0</td>\n",
       "      <td>0.471876</td>\n",
       "      <td>0.331329</td>\n",
       "      <td>0.078</td>\n",
       "      <td>0.24375</td>\n",
       "      <td>0.3725</td>\n",
       "      <td>0.62625</td>\n",
       "      <td>2.42</td>\n",
       "    </tr>\n",
       "    <tr>\n",
       "      <th>Age</th>\n",
       "      <td>768.0</td>\n",
       "      <td>33.240885</td>\n",
       "      <td>11.760232</td>\n",
       "      <td>21.000</td>\n",
       "      <td>24.00000</td>\n",
       "      <td>29.0000</td>\n",
       "      <td>41.00000</td>\n",
       "      <td>81.00</td>\n",
       "    </tr>\n",
       "    <tr>\n",
       "      <th>Outcome</th>\n",
       "      <td>768.0</td>\n",
       "      <td>0.348958</td>\n",
       "      <td>0.476951</td>\n",
       "      <td>0.000</td>\n",
       "      <td>0.00000</td>\n",
       "      <td>0.0000</td>\n",
       "      <td>1.00000</td>\n",
       "      <td>1.00</td>\n",
       "    </tr>\n",
       "  </tbody>\n",
       "</table>\n",
       "</div>"
      ],
      "text/plain": [
       "                          count        mean         std     min       25%  \\\n",
       "Pregnancies               768.0    3.845052    3.369578   0.000   1.00000   \n",
       "Glucose                   768.0  120.894531   31.972618   0.000  99.00000   \n",
       "BloodPressure             768.0   69.105469   19.355807   0.000  62.00000   \n",
       "SkinThickness             768.0   20.536458   15.952218   0.000   0.00000   \n",
       "Insulin                   768.0   79.799479  115.244002   0.000   0.00000   \n",
       "BMI                       768.0   31.992578    7.884160   0.000  27.30000   \n",
       "DiabetesPedigreeFunction  768.0    0.471876    0.331329   0.078   0.24375   \n",
       "Age                       768.0   33.240885   11.760232  21.000  24.00000   \n",
       "Outcome                   768.0    0.348958    0.476951   0.000   0.00000   \n",
       "\n",
       "                               50%        75%     max  \n",
       "Pregnancies                 3.0000    6.00000   17.00  \n",
       "Glucose                   117.0000  140.25000  199.00  \n",
       "BloodPressure              72.0000   80.00000  122.00  \n",
       "SkinThickness              23.0000   32.00000   99.00  \n",
       "Insulin                    30.5000  127.25000  846.00  \n",
       "BMI                        32.0000   36.60000   67.10  \n",
       "DiabetesPedigreeFunction    0.3725    0.62625    2.42  \n",
       "Age                        29.0000   41.00000   81.00  \n",
       "Outcome                     0.0000    1.00000    1.00  "
      ]
     },
     "execution_count": 3,
     "metadata": {},
     "output_type": "execute_result"
    }
   ],
   "source": [
    "data.describe().T"
   ]
  },
  {
   "cell_type": "code",
   "execution_count": 4,
   "metadata": {
    "execution": {
     "iopub.execute_input": "2023-08-07T16:28:53.026962Z",
     "iopub.status.busy": "2023-08-07T16:28:53.026468Z",
     "iopub.status.idle": "2023-08-07T16:28:53.048433Z",
     "shell.execute_reply": "2023-08-07T16:28:53.047268Z",
     "shell.execute_reply.started": "2023-08-07T16:28:53.026925Z"
    }
   },
   "outputs": [
    {
     "name": "stdout",
     "output_type": "stream",
     "text": [
      "<class 'pandas.core.frame.DataFrame'>\n",
      "RangeIndex: 768 entries, 0 to 767\n",
      "Data columns (total 9 columns):\n",
      " #   Column                    Non-Null Count  Dtype  \n",
      "---  ------                    --------------  -----  \n",
      " 0   Pregnancies               768 non-null    int64  \n",
      " 1   Glucose                   768 non-null    int64  \n",
      " 2   BloodPressure             768 non-null    int64  \n",
      " 3   SkinThickness             768 non-null    int64  \n",
      " 4   Insulin                   768 non-null    int64  \n",
      " 5   BMI                       768 non-null    float64\n",
      " 6   DiabetesPedigreeFunction  768 non-null    float64\n",
      " 7   Age                       768 non-null    int64  \n",
      " 8   Outcome                   768 non-null    int64  \n",
      "dtypes: float64(2), int64(7)\n",
      "memory usage: 54.1 KB\n"
     ]
    }
   ],
   "source": [
    "#gives information about the data types,columns, null value counts, memory usage etc\n",
    "\n",
    "data.info()   "
   ]
  },
  {
   "cell_type": "code",
   "execution_count": 5,
   "metadata": {
    "execution": {
     "iopub.execute_input": "2023-08-07T16:28:55.557178Z",
     "iopub.status.busy": "2023-08-07T16:28:55.556673Z",
     "iopub.status.idle": "2023-08-07T16:28:55.565977Z",
     "shell.execute_reply": "2023-08-07T16:28:55.564286Z",
     "shell.execute_reply.started": "2023-08-07T16:28:55.557141Z"
    }
   },
   "outputs": [
    {
     "data": {
      "text/plain": [
       "Index(['Pregnancies', 'Glucose', 'BloodPressure', 'SkinThickness', 'Insulin',\n",
       "       'BMI', 'DiabetesPedigreeFunction', 'Age', 'Outcome'],\n",
       "      dtype='object')"
      ]
     },
     "execution_count": 5,
     "metadata": {},
     "output_type": "execute_result"
    }
   ],
   "source": [
    "data.columns"
   ]
  },
  {
   "cell_type": "code",
   "execution_count": 6,
   "metadata": {
    "execution": {
     "iopub.execute_input": "2023-08-07T16:28:57.937465Z",
     "iopub.status.busy": "2023-08-07T16:28:57.937003Z",
     "iopub.status.idle": "2023-08-07T16:28:57.947836Z",
     "shell.execute_reply": "2023-08-07T16:28:57.946509Z",
     "shell.execute_reply.started": "2023-08-07T16:28:57.937429Z"
    }
   },
   "outputs": [
    {
     "data": {
      "text/plain": [
       "Index(['Pregnancies', 'Glucose', 'BloodPressure', 'SkinThickness', 'Insulin',\n",
       "       'BMI', 'DPF', 'Age', 'Outcome'],\n",
       "      dtype='object')"
      ]
     },
     "execution_count": 6,
     "metadata": {},
     "output_type": "execute_result"
    }
   ],
   "source": [
    "data.rename(columns = {'DiabetesPedigreeFunction':'DPF'}, inplace = True)\n",
    "data.columns"
   ]
  },
  {
   "cell_type": "code",
   "execution_count": 7,
   "metadata": {
    "execution": {
     "iopub.execute_input": "2023-08-07T16:29:02.960599Z",
     "iopub.status.busy": "2023-08-07T16:29:02.959883Z",
     "iopub.status.idle": "2023-08-07T16:29:02.973055Z",
     "shell.execute_reply": "2023-08-07T16:29:02.971537Z",
     "shell.execute_reply.started": "2023-08-07T16:29:02.960561Z"
    }
   },
   "outputs": [
    {
     "name": "stdout",
     "output_type": "stream",
     "text": [
      "Duplicate Rows : Empty DataFrame\n",
      "Columns: [Pregnancies, Glucose, BloodPressure, SkinThickness, Insulin, BMI, DPF, Age, Outcome]\n",
      "Index: []\n"
     ]
    }
   ],
   "source": [
    "duplicate = data[data.duplicated()]\n",
    " \n",
    "print(\"Duplicate Rows :\",duplicate)"
   ]
  },
  {
   "cell_type": "code",
   "execution_count": 8,
   "metadata": {
    "execution": {
     "iopub.execute_input": "2023-08-07T16:29:31.562272Z",
     "iopub.status.busy": "2023-08-07T16:29:31.561786Z",
     "iopub.status.idle": "2023-08-07T16:29:34.354681Z",
     "shell.execute_reply": "2023-08-07T16:29:34.353382Z",
     "shell.execute_reply.started": "2023-08-07T16:29:31.562237Z"
    }
   },
   "outputs": [
    {
     "data": {
      "image/png": "[encoded data removed]",
      "text/plain": [
       "<Figure size 792x792 with 9 Axes>"
      ]
     },
     "metadata": {
      "needs_background": "light"
     },
     "output_type": "display_data"
    }
   ],
   "source": [
    "data.hist(figsize=(11,11));"
   ]
  },
  {
   "cell_type": "markdown",
   "metadata": {},
   "source": [
    "As observed in the histogram charts, the data's distribution reveals that glucose, BMI, and blood pressure exhibit nearly normal distributions."
   ]
  },
  {
   "cell_type": "markdown",
   "metadata": {},
   "source": [
    "## 3.2 Manage Missing Value"
   ]
  },
  {
   "cell_type": "code",
   "execution_count": 9,
   "metadata": {
    "execution": {
     "iopub.execute_input": "2023-08-07T16:29:46.176929Z",
     "iopub.status.busy": "2023-08-07T16:29:46.176405Z",
     "iopub.status.idle": "2023-08-07T16:29:46.189241Z",
     "shell.execute_reply": "2023-08-07T16:29:46.187848Z",
     "shell.execute_reply.started": "2023-08-07T16:29:46.176890Z"
    }
   },
   "outputs": [
    {
     "data": {
      "text/plain": [
       "Pregnancies      0\n",
       "Glucose          0\n",
       "BloodPressure    0\n",
       "SkinThickness    0\n",
       "Insulin          0\n",
       "BMI              0\n",
       "DPF              0\n",
       "Age              0\n",
       "Outcome          0\n",
       "dtype: int64"
      ]
     },
     "execution_count": 9,
     "metadata": {},
     "output_type": "execute_result"
    }
   ],
   "source": [
    "data.isnull().sum()"
   ]
  },
  {
   "cell_type": "code",
   "execution_count": 10,
   "metadata": {
    "execution": {
     "iopub.execute_input": "2023-08-07T16:29:47.757549Z",
     "iopub.status.busy": "2023-08-07T16:29:47.757058Z",
     "iopub.status.idle": "2023-08-07T16:29:47.766159Z",
     "shell.execute_reply": "2023-08-07T16:29:47.765129Z",
     "shell.execute_reply.started": "2023-08-07T16:29:47.757511Z"
    }
   },
   "outputs": [
    {
     "name": "stdout",
     "output_type": "stream",
     "text": [
      "Pregnancies      111\n",
      "Glucose            5\n",
      "BloodPressure     35\n",
      "SkinThickness    227\n",
      "Insulin          374\n",
      "BMI               11\n",
      "DPF                0\n",
      "Age                0\n",
      "Outcome          500\n",
      "dtype: int64\n"
     ]
    }
   ],
   "source": [
    "print((data == 0).sum())"
   ]
  },
  {
   "cell_type": "markdown",
   "metadata": {},
   "source": [
    "There are numerous zeros in the data columns, with some, like insulin and BMI, being invalid as they cannot be zero. This suggests that zero values might have been used in place of NaN values. Consequently, **we need to replace all the zeros in these columns with NaN values.**"
   ]
  },
  {
   "cell_type": "code",
   "execution_count": 11,
   "metadata": {
    "execution": {
     "iopub.execute_input": "2023-08-07T16:29:54.571988Z",
     "iopub.status.busy": "2023-08-07T16:29:54.571495Z",
     "iopub.status.idle": "2023-08-07T16:29:54.584379Z",
     "shell.execute_reply": "2023-08-07T16:29:54.583092Z",
     "shell.execute_reply.started": "2023-08-07T16:29:54.571951Z"
    }
   },
   "outputs": [],
   "source": [
    "data[['Glucose','BloodPressure','SkinThickness',\n",
    "      'Insulin','BMI']] = data[['Glucose','BloodPressure','SkinThickness','Insulin','BMI']].replace(0,np.NaN)"
   ]
  },
  {
   "cell_type": "code",
   "execution_count": 12,
   "metadata": {
    "execution": {
     "iopub.execute_input": "2023-08-07T16:29:55.661976Z",
     "iopub.status.busy": "2023-08-07T16:29:55.660722Z",
     "iopub.status.idle": "2023-08-07T16:29:55.676078Z",
     "shell.execute_reply": "2023-08-07T16:29:55.674454Z",
     "shell.execute_reply.started": "2023-08-07T16:29:55.661928Z"
    }
   },
   "outputs": [
    {
     "data": {
      "text/plain": [
       "Pregnancies        0\n",
       "Glucose            5\n",
       "BloodPressure     35\n",
       "SkinThickness    227\n",
       "Insulin          374\n",
       "BMI               11\n",
       "DPF                0\n",
       "Age                0\n",
       "Outcome            0\n",
       "dtype: int64"
      ]
     },
     "execution_count": 12,
     "metadata": {},
     "output_type": "execute_result"
    }
   ],
   "source": [
    "data.isnull().sum()"
   ]
  },
  {
   "cell_type": "code",
   "execution_count": 13,
   "metadata": {
    "execution": {
     "iopub.execute_input": "2023-08-07T16:29:56.798214Z",
     "iopub.status.busy": "2023-08-07T16:29:56.797084Z",
     "iopub.status.idle": "2023-08-07T16:29:56.825893Z",
     "shell.execute_reply": "2023-08-07T16:29:56.824476Z",
     "shell.execute_reply.started": "2023-08-07T16:29:56.798164Z"
    }
   },
   "outputs": [
    {
     "data": {
      "text/html": [
       "<div>\n",
       "<style scoped>\n",
       "    .dataframe tbody tr th:only-of-type {\n",
       "        vertical-align: middle;\n",
       "    }\n",
       "\n",
       "    .dataframe tbody tr th {\n",
       "        vertical-align: top;\n",
       "    }\n",
       "\n",
       "    .dataframe thead th {\n",
       "        text-align: right;\n",
       "    }\n",
       "</style>\n",
       "<table border=\"1\" class=\"dataframe\">\n",
       "  <thead>\n",
       "    <tr style=\"text-align: right;\">\n",
       "      <th></th>\n",
       "      <th>Pregnancies</th>\n",
       "      <th>Glucose</th>\n",
       "      <th>BloodPressure</th>\n",
       "      <th>SkinThickness</th>\n",
       "      <th>Insulin</th>\n",
       "      <th>BMI</th>\n",
       "      <th>DPF</th>\n",
       "      <th>Age</th>\n",
       "      <th>Outcome</th>\n",
       "    </tr>\n",
       "  </thead>\n",
       "  <tbody>\n",
       "    <tr>\n",
       "      <th>Count</th>\n",
       "      <td>0.0</td>\n",
       "      <td>5.00</td>\n",
       "      <td>35.00</td>\n",
       "      <td>227.00</td>\n",
       "      <td>374.0</td>\n",
       "      <td>11.00</td>\n",
       "      <td>0.0</td>\n",
       "      <td>0.0</td>\n",
       "      <td>0.0</td>\n",
       "    </tr>\n",
       "    <tr>\n",
       "      <th>Percentage</th>\n",
       "      <td>0.0</td>\n",
       "      <td>0.65</td>\n",
       "      <td>4.56</td>\n",
       "      <td>29.56</td>\n",
       "      <td>48.7</td>\n",
       "      <td>1.43</td>\n",
       "      <td>0.0</td>\n",
       "      <td>0.0</td>\n",
       "      <td>0.0</td>\n",
       "    </tr>\n",
       "  </tbody>\n",
       "</table>\n",
       "</div>"
      ],
      "text/plain": [
       "            Pregnancies  Glucose  BloodPressure  SkinThickness  Insulin  \\\n",
       "Count               0.0     5.00          35.00         227.00    374.0   \n",
       "Percentage          0.0     0.65           4.56          29.56     48.7   \n",
       "\n",
       "              BMI  DPF  Age  Outcome  \n",
       "Count       11.00  0.0  0.0      0.0  \n",
       "Percentage   1.43  0.0  0.0      0.0  "
      ]
     },
     "execution_count": 13,
     "metadata": {},
     "output_type": "execute_result"
    }
   ],
   "source": [
    "Missing_value = pd.DataFrame({\"Count\":data.isnull().sum(),\"Percentage\":round(100*data.isnull().sum()/data.count().max(), 2)})\n",
    "\n",
    "Missing_value.T"
   ]
  },
  {
   "cell_type": "code",
   "execution_count": 14,
   "metadata": {
    "execution": {
     "iopub.execute_input": "2023-08-07T16:29:58.555330Z",
     "iopub.status.busy": "2023-08-07T16:29:58.554854Z",
     "iopub.status.idle": "2023-08-07T16:29:58.564213Z",
     "shell.execute_reply": "2023-08-07T16:29:58.562691Z",
     "shell.execute_reply.started": "2023-08-07T16:29:58.555297Z"
    }
   },
   "outputs": [],
   "source": [
    "data_copy = data.copy(deep=True)"
   ]
  },
  {
   "cell_type": "markdown",
   "metadata": {},
   "source": [
    "To handle missing data, we remove rows from the dataset that contain more than 70% NaN values. This step is crucial to avoid potential errors in the final results."
   ]
  },
  {
   "cell_type": "code",
   "execution_count": 15,
   "metadata": {
    "execution": {
     "iopub.execute_input": "2023-08-07T16:30:04.073265Z",
     "iopub.status.busy": "2023-08-07T16:30:04.072785Z",
     "iopub.status.idle": "2023-08-07T16:30:04.082970Z",
     "shell.execute_reply": "2023-08-07T16:30:04.081676Z",
     "shell.execute_reply.started": "2023-08-07T16:30:04.073227Z"
    }
   },
   "outputs": [],
   "source": [
    "#only keep rows with at least 70% non-NaN values\n",
    "\n",
    "data_copy=data_copy.dropna(thresh=0.7*len(data_copy.columns))  "
   ]
  },
  {
   "cell_type": "code",
   "execution_count": 16,
   "metadata": {
    "execution": {
     "iopub.execute_input": "2023-08-07T16:30:06.932471Z",
     "iopub.status.busy": "2023-08-07T16:30:06.931961Z",
     "iopub.status.idle": "2023-08-07T16:30:06.940908Z",
     "shell.execute_reply": "2023-08-07T16:30:06.939582Z",
     "shell.execute_reply.started": "2023-08-07T16:30:06.932432Z"
    }
   },
   "outputs": [
    {
     "data": {
      "text/plain": [
       "(733, 9)"
      ]
     },
     "execution_count": 16,
     "metadata": {},
     "output_type": "execute_result"
    }
   ],
   "source": [
    "data_copy.shape\n",
    "\n",
    "#removed 35 rows by at least 70% non-NaN values"
   ]
  },
  {
   "cell_type": "markdown",
   "metadata": {},
   "source": [
    "We replace the remaining missing data values in each column with the average value of the data (mean) for that specific column. Additionally, to enhance accuracy, we compute the average of the output data based on the class labels (Outcome)."
   ]
  },
  {
   "cell_type": "code",
   "execution_count": 17,
   "metadata": {
    "execution": {
     "iopub.execute_input": "2023-08-07T16:30:12.975653Z",
     "iopub.status.busy": "2023-08-07T16:30:12.974934Z",
     "iopub.status.idle": "2023-08-07T16:30:13.002273Z",
     "shell.execute_reply": "2023-08-07T16:30:13.000947Z",
     "shell.execute_reply.started": "2023-08-07T16:30:12.975615Z"
    }
   },
   "outputs": [],
   "source": [
    "#Applying Only on variables with NaN values\n",
    "\n",
    "for i in data_copy.columns[data_copy.isnull().any(axis=0)]:     \n",
    "    data_copy[i] = data_copy.groupby([\"Outcome\"])[i].transform(lambda x: x.fillna(x.mean()))"
   ]
  },
  {
   "cell_type": "markdown",
   "metadata": {},
   "source": [
    "## 3.3 Manage Outlier Data"
   ]
  },
  {
   "cell_type": "markdown",
   "metadata": {},
   "source": [
    "### 3.3.1 Manage Outliers Data with IQR method"
   ]
  },
  {
   "cell_type": "code",
   "execution_count": 18,
   "metadata": {
    "execution": {
     "iopub.execute_input": "2023-08-07T16:30:15.872271Z",
     "iopub.status.busy": "2023-08-07T16:30:15.871773Z",
     "iopub.status.idle": "2023-08-07T16:30:16.349314Z",
     "shell.execute_reply": "2023-08-07T16:30:16.347764Z",
     "shell.execute_reply.started": "2023-08-07T16:30:15.872232Z"
    }
   },
   "outputs": [
    {
     "data": {
      "image/png": "[encoded data removed]",
      "text/plain": [
       "<Figure size 360x360 with 1 Axes>"
      ]
     },
     "metadata": {},
     "output_type": "display_data"
    }
   ],
   "source": [
    "plt.style.use('ggplot') # Using ggplot2 style visuals \n",
    "\n",
    "f, ax = plt.subplots(figsize=(5, 5))\n",
    "\n",
    "ax.set_facecolor('#fafafa')\n",
    "ax.set(xlim=(-.05, 350))\n",
    "plt.title(\"Box Plot\")\n",
    "ax = sns.boxplot(data = data_copy, \n",
    "  orient = 'h', \n",
    "  palette = 'Set2')"
   ]
  },
  {
   "cell_type": "markdown",
   "metadata": {},
   "source": [
    "### 3.3.2 Finding the boundary values"
   ]
  },
  {
   "cell_type": "code",
   "execution_count": 19,
   "metadata": {
    "execution": {
     "iopub.execute_input": "2023-08-07T16:30:20.489137Z",
     "iopub.status.busy": "2023-08-07T16:30:20.488653Z",
     "iopub.status.idle": "2023-08-07T16:30:20.542518Z",
     "shell.execute_reply": "2023-08-07T16:30:20.541098Z",
     "shell.execute_reply.started": "2023-08-07T16:30:20.489102Z"
    }
   },
   "outputs": [],
   "source": [
    "Q1  = pd.DataFrame()\n",
    "Q3  =   pd.DataFrame()\n",
    "IQR =  pd.DataFrame()\n",
    "UpperLimit =  pd.DataFrame()\n",
    "LowerLimit =  pd.DataFrame()\n",
    "Outlier_UpperLimit =  pd.DataFrame(index=[1,2,3,4])\n",
    "Outlier_LowerLimit =  pd.DataFrame(index=[1,2,3,4])\n",
    "\n",
    "columns = data_copy.columns[0:-1]\n",
    "\n",
    "for i in columns:\n",
    "    Q1[i] = [data_copy[i].quantile(0.25)]\n",
    "    Q3[i]=  [data_copy[i].quantile(0.75)]\n",
    "    IQR[i] = [Q3[i][0]-Q1[i][0]]\n",
    "    UpperLimit[i] = [Q3[i][0]+1.5*IQR[i][0]]\n",
    "    LowerLimit[i] = [Q1[i][0]-1.5*IQR[i][0]]"
   ]
  },
  {
   "cell_type": "code",
   "execution_count": 20,
   "metadata": {
    "execution": {
     "iopub.execute_input": "2023-08-07T16:30:27.718755Z",
     "iopub.status.busy": "2023-08-07T16:30:27.717141Z",
     "iopub.status.idle": "2023-08-07T16:30:27.744262Z",
     "shell.execute_reply": "2023-08-07T16:30:27.742665Z",
     "shell.execute_reply.started": "2023-08-07T16:30:27.718667Z"
    }
   },
   "outputs": [
    {
     "data": {
      "text/html": [
       "<div>\n",
       "<style scoped>\n",
       "    .dataframe tbody tr th:only-of-type {\n",
       "        vertical-align: middle;\n",
       "    }\n",
       "\n",
       "    .dataframe tbody tr th {\n",
       "        vertical-align: top;\n",
       "    }\n",
       "\n",
       "    .dataframe thead th {\n",
       "        text-align: right;\n",
       "    }\n",
       "</style>\n",
       "<table border=\"1\" class=\"dataframe\">\n",
       "  <thead>\n",
       "    <tr style=\"text-align: right;\">\n",
       "      <th></th>\n",
       "      <th>Q1</th>\n",
       "      <th>Q3</th>\n",
       "      <th>IQR</th>\n",
       "      <th>UpperLimit</th>\n",
       "      <th>LowerLimit</th>\n",
       "    </tr>\n",
       "  </thead>\n",
       "  <tbody>\n",
       "    <tr>\n",
       "      <th>Pregnancies</th>\n",
       "      <td>1.000</td>\n",
       "      <td>6.000000</td>\n",
       "      <td>5.000000</td>\n",
       "      <td>13.500000</td>\n",
       "      <td>-6.500000</td>\n",
       "    </tr>\n",
       "    <tr>\n",
       "      <th>Glucose</th>\n",
       "      <td>100.000</td>\n",
       "      <td>142.000000</td>\n",
       "      <td>42.000000</td>\n",
       "      <td>205.000000</td>\n",
       "      <td>37.000000</td>\n",
       "    </tr>\n",
       "    <tr>\n",
       "      <th>BloodPressure</th>\n",
       "      <td>64.000</td>\n",
       "      <td>80.000000</td>\n",
       "      <td>16.000000</td>\n",
       "      <td>104.000000</td>\n",
       "      <td>40.000000</td>\n",
       "    </tr>\n",
       "    <tr>\n",
       "      <th>SkinThickness</th>\n",
       "      <td>24.000</td>\n",
       "      <td>33.000000</td>\n",
       "      <td>9.000000</td>\n",
       "      <td>46.500000</td>\n",
       "      <td>10.500000</td>\n",
       "    </tr>\n",
       "    <tr>\n",
       "      <th>Insulin</th>\n",
       "      <td>119.000</td>\n",
       "      <td>206.846154</td>\n",
       "      <td>87.846154</td>\n",
       "      <td>338.615385</td>\n",
       "      <td>-12.769231</td>\n",
       "    </tr>\n",
       "    <tr>\n",
       "      <th>BMI</th>\n",
       "      <td>27.500</td>\n",
       "      <td>36.600000</td>\n",
       "      <td>9.100000</td>\n",
       "      <td>50.250000</td>\n",
       "      <td>13.850000</td>\n",
       "    </tr>\n",
       "    <tr>\n",
       "      <th>DPF</th>\n",
       "      <td>0.245</td>\n",
       "      <td>0.629000</td>\n",
       "      <td>0.384000</td>\n",
       "      <td>1.205000</td>\n",
       "      <td>-0.331000</td>\n",
       "    </tr>\n",
       "    <tr>\n",
       "      <th>Age</th>\n",
       "      <td>24.000</td>\n",
       "      <td>41.000000</td>\n",
       "      <td>17.000000</td>\n",
       "      <td>66.500000</td>\n",
       "      <td>-1.500000</td>\n",
       "    </tr>\n",
       "  </tbody>\n",
       "</table>\n",
       "</div>"
      ],
      "text/plain": [
       "                    Q1          Q3        IQR  UpperLimit  LowerLimit\n",
       "Pregnancies      1.000    6.000000   5.000000   13.500000   -6.500000\n",
       "Glucose        100.000  142.000000  42.000000  205.000000   37.000000\n",
       "BloodPressure   64.000   80.000000  16.000000  104.000000   40.000000\n",
       "SkinThickness   24.000   33.000000   9.000000   46.500000   10.500000\n",
       "Insulin        119.000  206.846154  87.846154  338.615385  -12.769231\n",
       "BMI             27.500   36.600000   9.100000   50.250000   13.850000\n",
       "DPF              0.245    0.629000   0.384000    1.205000   -0.331000\n",
       "Age             24.000   41.000000  17.000000   66.500000   -1.500000"
      ]
     },
     "execution_count": 20,
     "metadata": {},
     "output_type": "execute_result"
    }
   ],
   "source": [
    "df = pd.concat([Q1,Q3,IQR,UpperLimit,LowerLimit])\n",
    "df.index = [\"Q1\",\"Q3\",\"IQR\",\"UpperLimit\",\"LowerLimit\"]\n",
    "dft = df.T\n",
    "dft"
   ]
  },
  {
   "cell_type": "markdown",
   "metadata": {},
   "source": [
    "\n",
    "### 3.3.3 Find the outliers"
   ]
  },
  {
   "cell_type": "code",
   "execution_count": 21,
   "metadata": {
    "execution": {
     "iopub.execute_input": "2023-08-07T16:30:32.521305Z",
     "iopub.status.busy": "2023-08-07T16:30:32.520809Z",
     "iopub.status.idle": "2023-08-07T16:30:32.536986Z",
     "shell.execute_reply": "2023-08-07T16:30:32.535252Z",
     "shell.execute_reply.started": "2023-08-07T16:30:32.521271Z"
    }
   },
   "outputs": [
    {
     "name": "stdout",
     "output_type": "stream",
     "text": [
      "Upper Limit Outlier:  \n",
      "\n",
      "Pregnancies Outliers: [15 17 14 14]\n",
      "Glucose Outliers: []\n",
      "BloodPressure Outliers: [110. 108. 122. 110. 108. 110. 106. 106. 106. 114.]\n",
      "SkinThickness Outliers: [47. 47. 60. 54. 51. 56. 50. 54. 50. 52. 48. 49. 63. 48. 52. 49. 47. 99.\n",
      " 50. 47. 48. 49. 48.]\n",
      "Insulin Outliers: [543. 846. 342. 495. 485. 495. 478. 744. 370. 680. 402. 375. 545. 360.\n",
      " 465. 415. 579. 474. 480. 600. 440. 540. 480. 387. 392. 510.]\n",
      "BMI Outliers: [53.2 55.  67.1 52.3 52.9 59.4 57.3]\n",
      "DPF Outliers: [2.288 1.441 1.39  1.893 1.781 1.222 1.4   1.321 1.224 2.329 1.318 1.213\n",
      " 1.353 1.224 1.391 1.476 2.137 1.731 1.268 1.6   2.42  1.251 1.699 1.258\n",
      " 1.282 1.698 1.461 1.292 1.394]\n",
      "Age Outliers: [69 67 81 67 67 70 68]\n"
     ]
    }
   ],
   "source": [
    "aa =[]\n",
    "print(\"Upper Limit Outlier: \",\"\\n\")\n",
    "for i in columns:\n",
    "    aa = np.array(data_copy[data_copy[i]>dft[\"UpperLimit\"][i]][i])\n",
    "        \n",
    "    print(\"{} Outliers: {}\".format(i,aa))\n"
   ]
  },
  {
   "cell_type": "code",
   "execution_count": 22,
   "metadata": {
    "execution": {
     "iopub.execute_input": "2023-08-07T16:30:38.567779Z",
     "iopub.status.busy": "2023-08-07T16:30:38.567268Z",
     "iopub.status.idle": "2023-08-07T16:30:38.583896Z",
     "shell.execute_reply": "2023-08-07T16:30:38.582238Z",
     "shell.execute_reply.started": "2023-08-07T16:30:38.567738Z"
    }
   },
   "outputs": [
    {
     "name": "stdout",
     "output_type": "stream",
     "text": [
      "Lower Limit Outlier:  \n",
      "\n",
      "Pregnancies Outliers: []\n",
      "Glucose Outliers: []\n",
      "BloodPressure Outliers: [30. 30. 24. 38.]\n",
      "SkinThickness Outliers: [10.  7. 10. 10.  8.  8. 10.  7. 10.]\n",
      "Insulin Outliers: []\n",
      "BMI Outliers: []\n",
      "DPF Outliers: []\n",
      "Age Outliers: []\n"
     ]
    }
   ],
   "source": [
    "xx =[]\n",
    "print(\"Lower Limit Outlier: \",\"\\n\")\n",
    "\n",
    "for i in columns:\n",
    "    xx = np.array(data_copy[data_copy[i]<dft[\"LowerLimit\"][i]][i])\n",
    "    \n",
    "    print(\"{} Outliers: {}\".format(i,xx))\n"
   ]
  },
  {
   "cell_type": "markdown",
   "metadata": {},
   "source": [
    "### 3.3.4 Cap the Outliers"
   ]
  },
  {
   "cell_type": "markdown",
   "metadata": {},
   "source": [
    "Given the small number of our data, we opt to employ the data **capping** method rather than deleting outlier data. This approach involves replacing data larger than the upper limit with that value and data smaller than the lower limit with that value."
   ]
  },
  {
   "cell_type": "code",
   "execution_count": 23,
   "metadata": {
    "execution": {
     "iopub.execute_input": "2023-08-07T16:30:46.749365Z",
     "iopub.status.busy": "2023-08-07T16:30:46.748895Z",
     "iopub.status.idle": "2023-08-07T16:30:46.789282Z",
     "shell.execute_reply": "2023-08-07T16:30:46.788013Z",
     "shell.execute_reply.started": "2023-08-07T16:30:46.749329Z"
    }
   },
   "outputs": [
    {
     "name": "stdout",
     "output_type": "stream",
     "text": [
      "Working on column: Insulin\n",
      "Working on column: SkinThickness\n",
      "Working on column: DPF\n",
      "Working on column: Pregnancies\n",
      "Working on column: BloodPressure\n",
      "Working on column: BMI\n",
      "Working on column: Age\n"
     ]
    },
    {
     "data": {
      "text/html": [
       "<div>\n",
       "<style scoped>\n",
       "    .dataframe tbody tr th:only-of-type {\n",
       "        vertical-align: middle;\n",
       "    }\n",
       "\n",
       "    .dataframe tbody tr th {\n",
       "        vertical-align: top;\n",
       "    }\n",
       "\n",
       "    .dataframe thead th {\n",
       "        text-align: right;\n",
       "    }\n",
       "</style>\n",
       "<table border=\"1\" class=\"dataframe\">\n",
       "  <thead>\n",
       "    <tr style=\"text-align: right;\">\n",
       "      <th></th>\n",
       "      <th>Pregnancies</th>\n",
       "      <th>Glucose</th>\n",
       "      <th>BloodPressure</th>\n",
       "      <th>SkinThickness</th>\n",
       "      <th>Insulin</th>\n",
       "      <th>BMI</th>\n",
       "      <th>DPF</th>\n",
       "      <th>Age</th>\n",
       "      <th>Outcome</th>\n",
       "    </tr>\n",
       "  </thead>\n",
       "  <tbody>\n",
       "    <tr>\n",
       "      <th>0</th>\n",
       "      <td>6.0</td>\n",
       "      <td>148.0</td>\n",
       "      <td>72.0</td>\n",
       "      <td>35.0</td>\n",
       "      <td>206.846154</td>\n",
       "      <td>33.6</td>\n",
       "      <td>0.627</td>\n",
       "      <td>50.0</td>\n",
       "      <td>1</td>\n",
       "    </tr>\n",
       "    <tr>\n",
       "      <th>1</th>\n",
       "      <td>1.0</td>\n",
       "      <td>85.0</td>\n",
       "      <td>66.0</td>\n",
       "      <td>29.0</td>\n",
       "      <td>130.287879</td>\n",
       "      <td>26.6</td>\n",
       "      <td>0.351</td>\n",
       "      <td>31.0</td>\n",
       "      <td>0</td>\n",
       "    </tr>\n",
       "    <tr>\n",
       "      <th>2</th>\n",
       "      <td>8.0</td>\n",
       "      <td>183.0</td>\n",
       "      <td>64.0</td>\n",
       "      <td>33.0</td>\n",
       "      <td>206.846154</td>\n",
       "      <td>23.3</td>\n",
       "      <td>0.672</td>\n",
       "      <td>32.0</td>\n",
       "      <td>1</td>\n",
       "    </tr>\n",
       "    <tr>\n",
       "      <th>3</th>\n",
       "      <td>1.0</td>\n",
       "      <td>89.0</td>\n",
       "      <td>66.0</td>\n",
       "      <td>23.0</td>\n",
       "      <td>94.000000</td>\n",
       "      <td>28.1</td>\n",
       "      <td>0.167</td>\n",
       "      <td>21.0</td>\n",
       "      <td>0</td>\n",
       "    </tr>\n",
       "    <tr>\n",
       "      <th>4</th>\n",
       "      <td>0.0</td>\n",
       "      <td>137.0</td>\n",
       "      <td>40.0</td>\n",
       "      <td>35.0</td>\n",
       "      <td>168.000000</td>\n",
       "      <td>43.1</td>\n",
       "      <td>1.205</td>\n",
       "      <td>33.0</td>\n",
       "      <td>1</td>\n",
       "    </tr>\n",
       "    <tr>\n",
       "      <th>...</th>\n",
       "      <td>...</td>\n",
       "      <td>...</td>\n",
       "      <td>...</td>\n",
       "      <td>...</td>\n",
       "      <td>...</td>\n",
       "      <td>...</td>\n",
       "      <td>...</td>\n",
       "      <td>...</td>\n",
       "      <td>...</td>\n",
       "    </tr>\n",
       "    <tr>\n",
       "      <th>763</th>\n",
       "      <td>10.0</td>\n",
       "      <td>101.0</td>\n",
       "      <td>76.0</td>\n",
       "      <td>46.5</td>\n",
       "      <td>180.000000</td>\n",
       "      <td>32.9</td>\n",
       "      <td>0.171</td>\n",
       "      <td>63.0</td>\n",
       "      <td>0</td>\n",
       "    </tr>\n",
       "    <tr>\n",
       "      <th>764</th>\n",
       "      <td>2.0</td>\n",
       "      <td>122.0</td>\n",
       "      <td>70.0</td>\n",
       "      <td>27.0</td>\n",
       "      <td>130.287879</td>\n",
       "      <td>36.8</td>\n",
       "      <td>0.340</td>\n",
       "      <td>27.0</td>\n",
       "      <td>0</td>\n",
       "    </tr>\n",
       "    <tr>\n",
       "      <th>765</th>\n",
       "      <td>5.0</td>\n",
       "      <td>121.0</td>\n",
       "      <td>72.0</td>\n",
       "      <td>23.0</td>\n",
       "      <td>112.000000</td>\n",
       "      <td>26.2</td>\n",
       "      <td>0.245</td>\n",
       "      <td>30.0</td>\n",
       "      <td>0</td>\n",
       "    </tr>\n",
       "    <tr>\n",
       "      <th>766</th>\n",
       "      <td>1.0</td>\n",
       "      <td>126.0</td>\n",
       "      <td>60.0</td>\n",
       "      <td>33.0</td>\n",
       "      <td>206.846154</td>\n",
       "      <td>30.1</td>\n",
       "      <td>0.349</td>\n",
       "      <td>47.0</td>\n",
       "      <td>1</td>\n",
       "    </tr>\n",
       "    <tr>\n",
       "      <th>767</th>\n",
       "      <td>1.0</td>\n",
       "      <td>93.0</td>\n",
       "      <td>70.0</td>\n",
       "      <td>31.0</td>\n",
       "      <td>130.287879</td>\n",
       "      <td>30.4</td>\n",
       "      <td>0.315</td>\n",
       "      <td>23.0</td>\n",
       "      <td>0</td>\n",
       "    </tr>\n",
       "  </tbody>\n",
       "</table>\n",
       "<p>733 rows × 9 columns</p>\n",
       "</div>"
      ],
      "text/plain": [
       "     Pregnancies  Glucose  BloodPressure  SkinThickness     Insulin   BMI  \\\n",
       "0            6.0    148.0           72.0           35.0  206.846154  33.6   \n",
       "1            1.0     85.0           66.0           29.0  130.287879  26.6   \n",
       "2            8.0    183.0           64.0           33.0  206.846154  23.3   \n",
       "3            1.0     89.0           66.0           23.0   94.000000  28.1   \n",
       "4            0.0    137.0           40.0           35.0  168.000000  43.1   \n",
       "..           ...      ...            ...            ...         ...   ...   \n",
       "763         10.0    101.0           76.0           46.5  180.000000  32.9   \n",
       "764          2.0    122.0           70.0           27.0  130.287879  36.8   \n",
       "765          5.0    121.0           72.0           23.0  112.000000  26.2   \n",
       "766          1.0    126.0           60.0           33.0  206.846154  30.1   \n",
       "767          1.0     93.0           70.0           31.0  130.287879  30.4   \n",
       "\n",
       "       DPF   Age  Outcome  \n",
       "0    0.627  50.0        1  \n",
       "1    0.351  31.0        0  \n",
       "2    0.672  32.0        1  \n",
       "3    0.167  21.0        0  \n",
       "4    1.205  33.0        1  \n",
       "..     ...   ...      ...  \n",
       "763  0.171  63.0        0  \n",
       "764  0.340  27.0        0  \n",
       "765  0.245  30.0        0  \n",
       "766  0.349  47.0        1  \n",
       "767  0.315  23.0        0  \n",
       "\n",
       "[733 rows x 9 columns]"
      ]
     },
     "execution_count": 23,
     "metadata": {},
     "output_type": "execute_result"
    }
   ],
   "source": [
    "columns_cap = [\"Insulin\",\"SkinThickness\",\"DPF\",\"Pregnancies\",\"BloodPressure\",\"BMI\",\"Age\"]\n",
    "\n",
    "def Cap_Outliers(dff,column):\n",
    "    for i in column:\n",
    "        print('Working on column: {}'.format(i))\n",
    "        dff[i] = np.where(dff[i]>dft[\"UpperLimit\"][i],dft[\"UpperLimit\"][i],\n",
    "                            np.where(dff[i]<dft[\"LowerLimit\"][i],dft[\"LowerLimit\"][i],dff[i]))\n",
    "    return dff\n",
    "\n",
    "Cap_Outliers(data_copy,columns_cap)"
   ]
  },
  {
   "cell_type": "code",
   "execution_count": 24,
   "metadata": {
    "execution": {
     "iopub.execute_input": "2023-08-07T16:30:51.371474Z",
     "iopub.status.busy": "2023-08-07T16:30:51.370912Z",
     "iopub.status.idle": "2023-08-07T16:30:51.843404Z",
     "shell.execute_reply": "2023-08-07T16:30:51.841953Z",
     "shell.execute_reply.started": "2023-08-07T16:30:51.371425Z"
    }
   },
   "outputs": [
    {
     "data": {
      "image/png": "[encoded data removed]",
      "text/plain": [
       "<Figure size 360x360 with 1 Axes>"
      ]
     },
     "metadata": {},
     "output_type": "display_data"
    }
   ],
   "source": [
    "plt.style.use('ggplot') # Using ggplot2 style visuals \n",
    "\n",
    "f, ax = plt.subplots(figsize=(5, 5))\n",
    "\n",
    "ax.set_facecolor('#fafafa')\n",
    "ax.set(xlim=(-.05, 350))\n",
    "plt.title(\"Box Plot\")\n",
    "ax = sns.boxplot(data = data_copy, \n",
    "  orient = 'h', \n",
    "  palette = 'Set2')"
   ]
  },
  {
   "cell_type": "code",
   "execution_count": 25,
   "metadata": {
    "execution": {
     "iopub.execute_input": "2023-08-07T16:32:14.380513Z",
     "iopub.status.busy": "2023-08-07T16:32:14.380047Z",
     "iopub.status.idle": "2023-08-07T16:32:14.945165Z",
     "shell.execute_reply": "2023-08-07T16:32:14.944065Z",
     "shell.execute_reply.started": "2023-08-07T16:32:14.380477Z"
    }
   },
   "outputs": [
    {
     "data": {
      "image/png": "[encoded data removed]",
      "text/plain": [
       "<Figure size 504x360 with 2 Axes>"
      ]
     },
     "metadata": {},
     "output_type": "display_data"
    }
   ],
   "source": [
    "sns.heatmap(data_copy[data_copy.columns[:8]].corr(),annot=True,cmap='RdYlGn')\n",
    "fig=plt.gcf()\n",
    "fig.set_size_inches(7,5)\n",
    "plt.show()"
   ]
  },
  {
   "cell_type": "code",
   "execution_count": 26,
   "metadata": {
    "execution": {
     "iopub.execute_input": "2023-08-07T16:31:54.356782Z",
     "iopub.status.busy": "2023-08-07T16:31:54.356246Z",
     "iopub.status.idle": "2023-08-07T16:31:55.971624Z",
     "shell.execute_reply": "2023-08-07T16:31:55.970292Z",
     "shell.execute_reply.started": "2023-08-07T16:31:54.356742Z"
    }
   },
   "outputs": [
    {
     "data": {
      "text/plain": [
       "[Text(0.5, 1.0, 'Kendall correlation')]"
      ]
     },
     "execution_count": 26,
     "metadata": {},
     "output_type": "execute_result"
    },
    {
     "data": {
      "image/png": "[encoded data removed]",
      "text/plain": [
       "<Figure size 1512x432 with 6 Axes>"
      ]
     },
     "metadata": {},
     "output_type": "display_data"
    }
   ],
   "source": [
    "fig, ax = plt.subplots(1,3, figsize=(21, 6))\n",
    "\n",
    "corr1 = data_copy.corr('pearson')[['Outcome']].sort_values(by='Outcome', ascending=False)\n",
    "corr2 = data_copy.corr('spearman')[['Outcome']].sort_values(by='Outcome', ascending=False)\n",
    "corr3 = data_copy.corr('kendall')[['Outcome']].sort_values(by='Outcome', ascending=False)\n",
    "\n",
    "\n",
    "sns.heatmap(corr1, ax=ax[0], annot=True).set(title='Pearson correlation')\n",
    "sns.heatmap(corr2, ax=ax[1], annot=True).set(title='Spearman correlation')\n",
    "sns.heatmap(corr3, ax=ax[2], annot=True).set(title='Kendall correlation')"
   ]
  },
  {
   "cell_type": "code",
   "execution_count": 28,
   "metadata": {
    "execution": {
     "iopub.execute_input": "2023-08-07T16:32:41.545345Z",
     "iopub.status.busy": "2023-08-07T16:32:41.544827Z",
     "iopub.status.idle": "2023-08-07T16:32:41.563582Z",
     "shell.execute_reply": "2023-08-07T16:32:41.562565Z",
     "shell.execute_reply.started": "2023-08-07T16:32:41.545305Z"
    }
   },
   "outputs": [],
   "source": [
    "#save cleaned data as csv file\n",
    "\n",
    "data_copy.to_csv(\"data_cln.csv\",index=False)\n"
   ]
  }
 ],
 "metadata": {
  "kernelspec": {
   "display_name": "Python 3 (ipykernel)",
   "language": "python",
   "name": "python3"
  },
  "language_info": {
   "codemirror_mode": {
    "name": "ipython",
    "version": 3
   },
   "file_extension": ".py",
   "mimetype": "text/x-python",
   "name": "python",
   "nbconvert_exporter": "python",
   "pygments_lexer": "ipython3",
   "version": "3.9.12"
  }
 },
 "nbformat": 4,
 "nbformat_minor": 4
}
